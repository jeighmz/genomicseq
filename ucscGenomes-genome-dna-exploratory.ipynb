{
 "cells": [
  {
   "cell_type": "code",
   "execution_count": 2,
   "metadata": {},
   "outputs": [
    {
     "data": {
      "text/plain": [
       "'\\nExtract any DNA sequence from a specified chromosome in a given genome.\\n\\n    curl -o dna.json \"https://api.genome.ucsc.edu/getData/sequence?genome=hg38&chrom=chrM\"  \\n\\nnote: dont forget quotes. you must include quotes around the URL to prevent the zsh shell from interpreting the \"&\" character.\\n'"
      ]
     },
     "execution_count": 2,
     "metadata": {},
     "output_type": "execute_result"
    }
   ],
   "source": [
    "'''\n",
    "Extract any DNA sequence from a specified chromosome in a given genome via curl api's from online data source.\n",
    "\n",
    "    curl -o dna.json \"https://api.genome.ucsc.edu/getData/sequence?genome=hg38&chrom=chrM\"  \n",
    "\n",
    "note: dont forget quotes. you must include quotes around the URL to prevent the zsh shell from interpreting the \"&\" character.\n",
    "'''"
   ]
  },
  {
   "cell_type": "code",
   "execution_count": 14,
   "metadata": {},
   "outputs": [
    {
     "name": "stdout",
     "output_type": "stream",
     "text": [
      "Downloading https://api.genome.ucsc.edu/getData/sequence?genome=canFam1&chrom=chrX...\n"
     ]
    },
    {
     "name": "stderr",
     "output_type": "stream",
     "text": [
      "  % Total    % Received % Xferd  Average Speed   Time    Time     Time  Current\n",
      "                                 Dload  Upload   Total   Spent    Left  Speed\n",
      "100  121M    0  121M    0     0  2977k      0 --:--:--  0:00:41 --:--:-- 4718k\n"
     ]
    }
   ],
   "source": [
    "# read in the genome and chromosome from the user\n",
    "genome = input(\"Enter the genome (e.g., human: hg38): \")       # this is the human genome\n",
    "chrom = input(\"Enter the chromosome (e.g., chrM): \")\n",
    "import json\n",
    "\n",
    "# build the URL\n",
    "url = f\"https://api.genome.ucsc.edu/getData/sequence?genome={genome}&chrom={chrom}\"\n",
    "\n",
    "# use curl to get the data\n",
    "import subprocess\n",
    "print(f\"Downloading {url}...\")\n",
    "result = subprocess.run(['curl', '-o', 'dna/dna-{genome}-{x}.json'.format(genome=genome, x=chrom), url])\n",
    "subprocess.run(['touch', 'dna/dna-{genome}-{x}.json'.format(genome=genome, x=chrom)])\n",
    "# read the data from the file\n",
    "\n",
    "with open('dna/dna-{genome}-{x}.json'.format(genome=genome, x=chrom)) as f:\n",
    "    data = json.load(f) \n",
    "\n",
    "f.close()\n",
    "# extract the DNA sequence\n",
    "dna = data['dna']"
   ]
  },
  {
   "cell_type": "code",
   "execution_count": 15,
   "metadata": {},
   "outputs": [],
   "source": [
    "# print the DNA sequence\n",
    "print(f\"The DNA sequence for {chrom} in {genome} is {len(dna)} bases long.\")\n",
    "print(dna)"
   ]
  },
  {
   "cell_type": "code",
   "execution_count": 13,
   "metadata": {},
   "outputs": [
    {
     "name": "stdout",
     "output_type": "stream",
     "text": [
      "Chromosomes in canFam1:\n",
      "chr1\n",
      "chrM\n",
      "chr38\n",
      "chr35\n",
      "chr37\n",
      "chr36\n",
      "chr33\n",
      "chr26\n",
      "chr31\n",
      "chr32\n",
      "chr28\n",
      "chr30\n",
      "chr29\n",
      "chr34\n",
      "chr27\n",
      "chr24\n",
      "chr21\n",
      "chr9\n",
      "chr25\n",
      "chr23\n",
      "chr19\n",
      "chr16\n",
      "chr20\n",
      "chr14\n",
      "chr22\n",
      "chr13\n",
      "chr18\n",
      "chr17\n",
      "chr15\n",
      "chr10\n",
      "chr12\n",
      "chr11\n",
      "chr8\n",
      "chr6\n",
      "chr7\n",
      "chr2\n",
      "chrUn\n",
      "chr4\n",
      "chr5\n",
      "chr3\n",
      "chrX\n"
     ]
    }
   ],
   "source": [
    "import requests\n",
    "\n",
    "# Specify the genome\n",
    "genome = input(\"Enter the genome (e.g., human: hg38): \")      \n",
    "\n",
    "# Make a GET request to the UCSC API\n",
    "response = requests.get(f\"https://api.genome.ucsc.edu/list/chromosomes?genome={genome}\")\n",
    "\n",
    "# Check that the request was successful\n",
    "if response.status_code == 200:\n",
    "    # Parse the response as JSON\n",
    "    data = response.json()\n",
    "\n",
    "    # Extract the list of chromosomes\n",
    "    chromosomes = list(data[\"chromosomes\"].keys())\n",
    "    # Print the chromosomes\n",
    "    print(f\"Chromosomes in {genome}:\")\n",
    "    for chromosome in chromosomes:\n",
    "        print(chromosome)\n",
    "else:\n",
    "    print(f\"Failed to get data from UCSC API: {response.status_code}\")"
   ]
  },
  {
   "cell_type": "code",
   "execution_count": 12,
   "metadata": {},
   "outputs": [
    {
     "name": "stdout",
     "output_type": "stream",
     "text": [
      "['chr1', 'chrM', 'chr22_random', 'chrY_random', 'chr23_random', 'chr21_random', 'chr15_random', 'chr17_random', 'chr16_random', 'chr20_random', 'chr13_random', 'chr10_random', 'chr12_random', 'chr14_random', 'chr9_random', 'chr18_random', 'chr7_random', 'chr22', 'chr8_random', 'chr23', 'chr4_random', 'chrY', 'chr2_random', 'chr11_random', 'chr5_random', 'chr3_random', 'chr19_random', 'chr20', 'chr21', 'chr6_random', 'chr17', 'chr19', 'chr18', 'chr1_random', 'chrX_random', 'chr14', 'chr16', 'chr15', 'chr12', 'chr11', 'chr13', 'chr10', 'chr9', 'chr8', 'chr7', 'chrX', 'chr6', 'chr5', 'chr4', 'chr2', 'chr3', 'chrUn_random']\n",
      "52\n"
     ]
    }
   ],
   "source": [
    "data = response.json()\n",
    "print(list(data[\"chromosomes\"].keys()))\n",
    "print(len(data['chromosomes']))"
   ]
  }
 ],
 "metadata": {
  "kernelspec": {
   "display_name": ".venv",
   "language": "python",
   "name": "python3"
  },
  "language_info": {
   "codemirror_mode": {
    "name": "ipython",
    "version": 3
   },
   "file_extension": ".py",
   "mimetype": "text/x-python",
   "name": "python",
   "nbconvert_exporter": "python",
   "pygments_lexer": "ipython3",
   "version": "3.9.6"
  }
 },
 "nbformat": 4,
 "nbformat_minor": 2
}
